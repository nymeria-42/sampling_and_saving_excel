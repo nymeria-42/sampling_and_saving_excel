{
 "cells": [
  {
   "cell_type": "code",
   "execution_count": 1,
   "metadata": {},
   "outputs": [],
   "source": [
    "import pandas as pd\n",
    "import numpy as np\n",
    "import random\n",
    "import itertools\n",
    "import math"
   ]
  },
  {
   "cell_type": "markdown",
   "metadata": {},
   "source": [
    "# Técnicas de Amostragem"
   ]
  },
  {
   "cell_type": "markdown",
   "metadata": {},
   "source": [
    "## Estratificada com escolha aleatória para os subgrupos"
   ]
  },
  {
   "cell_type": "code",
   "execution_count": 2,
   "metadata": {},
   "outputs": [],
   "source": [
    "## Stratified Sampling combined with Random Sampling \n",
    "\n",
    "initial_num_processos = [1, 150, 18500, 22900, 39990]\n",
    "identifiers = np.arange(1, 5)\n",
    "choices = {}\n",
    "for identifier, (current, next) in zip(identifiers, itertools.pairwise(initial_num_processos)):\n",
    "    if identifier == identifiers[-1]:\n",
    "        frame = np.arange(current, next)\n",
    "    else:\n",
    "        frame = np.arange(current, next-1)\n",
    "    size = math.ceil(len(frame)*0.05)\n",
    "    if size < 100: # tamanho minimo de 100\n",
    "        size = 100\n",
    "    choices[identifier] = ['A', np.random.choice(frame, size, replace=False)] # random sampling\n",
    "\n",
    "# [len(choices[key]) for key in choices.keys()], choices"
   ]
  },
  {
   "cell_type": "markdown",
   "metadata": {},
   "source": [
    "## Estratificada com escolha sistemática para os subgrupos"
   ]
  },
  {
   "cell_type": "code",
   "execution_count": 3,
   "metadata": {},
   "outputs": [],
   "source": [
    "def systematic_sampling(df, first_number, last_number, step):\n",
    "    indexes = np.arange(first_number, last_number, step=step)\n",
    "    return indexes"
   ]
  },
  {
   "cell_type": "code",
   "execution_count": 4,
   "metadata": {},
   "outputs": [],
   "source": [
    "## Stratified Sampling combined with Systematic Sampling\n",
    "initial_num_processos = [1, 150, 18500, 22900, 39990]\n",
    "identifiers = np.arange(1, 5)\n",
    "choices_systematic = {}\n",
    "for identifier, (current, next) in zip(identifiers, itertools.pairwise(initial_num_processos)):\n",
    "    if identifier == identifiers[-1]:\n",
    "        frame = np.arange(current, next + 1)\n",
    "    else:\n",
    "        frame = np.arange(current, next)\n",
    "        \n",
    "    size = math.ceil(len(frame)*0.05)\n",
    "\n",
    "    if size < 100: # tamanho minimo de 100\n",
    "        size = 100\n",
    "\n",
    "    np.random.seed(0)\n",
    "    starting_number = random.randint(current, current + 20) \n",
    "    \n",
    "    # starting_number = current\n",
    "\n",
    "    last_number = next\n",
    "    interval = len(frame)//size\n",
    "    choices_systematic[identifier] = ['B', systematic_sampling(frame, starting_number, last_number, interval)] # systematic sampling\n",
    "\n",
    "# [len(choices[key]) for key in choices.keys()], choices"
   ]
  },
  {
   "cell_type": "code",
   "execution_count": 5,
   "metadata": {},
   "outputs": [],
   "source": [
    "## Escrevendo resultado em uma planilha do Excel com macros ativadas\n",
    "\n",
    "import openpyxl\n",
    "import os\n",
    "import string\n",
    "import pandas as pd\n",
    "import numpy as np\n",
    "\n",
    "path = '.' \n",
    "target_file = 'filename.xlsm' \n",
    "sheetname = 'Planilha1'\n",
    "\n",
    "filename = os.path.join(path, target_file)\n",
    "if os.path.isfile(filename):    \n",
    "    wb = openpyxl.load_workbook(filename, keep_vba=True)\n",
    "    sheet = wb[sheetname]\n",
    "else:\n",
    "    wb = openpyxl.Workbook() \n",
    "    sheet = wb.create_sheet(sheetname)\n",
    "    wb.save(filename)\n",
    "\n",
    "# letra da coluna para número\n",
    "d = dict()\n",
    "for x, y in zip(range(0, 27), string.ascii_lowercase):\n",
    "    d[x] = y.upper()\n"
   ]
  },
  {
   "attachments": {},
   "cell_type": "markdown",
   "metadata": {},
   "source": [
    "## Salvando resultado no Excel\n",
    "Primeiro resultado do Amostragem estratificada com escolha aleatória e, embaixo, da Amostragem estratificada com escolha sistemática"
   ]
  },
  {
   "cell_type": "code",
   "execution_count": 6,
   "metadata": {},
   "outputs": [],
   "source": [
    "# apagar as primeiras 2 colunas sem contar row 1 (header)\n",
    "max_row = sheet.max_row\n",
    "max_col = 2\n",
    "\n",
    "for row in range(max_row):\n",
    "    row += 1\n",
    "    if row == 1: continue # pular headers\n",
    "    for col in range(max_col):\n",
    "        sheet['{}{}'.format(d[col], row)] = None\n",
    "        col += 1\n",
    "\n",
    "wb.save(filename)"
   ]
  },
  {
   "cell_type": "code",
   "execution_count": 7,
   "metadata": {},
   "outputs": [],
   "source": [
    "# preencher as colunas sem contar header\n",
    "df_stratified_random =pd.DataFrame.from_records(choices[1]).T.fillna(method=\"ffill\")\n",
    "df_stratified_systematic = pd.DataFrame.from_records(choices_systematic[1]).T.fillna(method=\"ffill\")\n",
    "\n",
    "df = pd.concat([df_stratified_random, df_stratified_systematic])\n",
    "\n",
    "for row in range(len(df.index)):\n",
    "    row += 1 # no excel numeracao começa com 1\n",
    "    if row == 1: continue # pular headers\n",
    "    for col in range(max_col): \n",
    "        value = df.iloc[row-2][col]\n",
    "        sheet['{}{}'.format(d[col], row)] = value\n",
    "        col += 1\n",
    "\n",
    "wb.save(filename)"
   ]
  }
 ],
 "metadata": {
  "kernelspec": {
   "display_name": "venv",
   "language": "python",
   "name": "python3"
  },
  "language_info": {
   "codemirror_mode": {
    "name": "ipython",
    "version": 3
   },
   "file_extension": ".py",
   "mimetype": "text/x-python",
   "name": "python",
   "nbconvert_exporter": "python",
   "pygments_lexer": "ipython3",
   "version": "3.10.6"
  },
  "orig_nbformat": 4,
  "vscode": {
   "interpreter": {
    "hash": "9d4d7842b267e1422b956f4c37163c87c6d049e7877e1ac105e356ce3a350e55"
   }
  }
 },
 "nbformat": 4,
 "nbformat_minor": 2
}
